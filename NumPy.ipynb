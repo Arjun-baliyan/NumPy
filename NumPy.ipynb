{
 "cells": [
  {
   "cell_type": "markdown",
   "id": "c6db9ef7",
   "metadata": {},
   "source": [
    "# What is NumPy ?"
   ]
  },
  {
   "cell_type": "markdown",
   "id": "1f261c92",
   "metadata": {},
   "source": [
    "----   Numpy is a python package which stands for  \"Numerical Python\" and it is a general-purpose array-processing package"
   ]
  },
  {
   "cell_type": "code",
   "execution_count": 1,
   "id": "6af70676",
   "metadata": {},
   "outputs": [],
   "source": [
    "### why we use numpy:-\n",
    "# Numpy provides efficient storage.\n",
    "# It also provides better ways of handling data for processing.\n",
    "# it is fast.\n",
    "# easy to learn.\n",
    "# Numpy usess relatively less memory to store"
   ]
  },
  {
   "cell_type": "markdown",
   "id": "5eaccbd0",
   "metadata": {},
   "source": [
    "  "
   ]
  },
  {
   "cell_type": "code",
   "execution_count": 2,
   "id": "f89eddcf",
   "metadata": {},
   "outputs": [],
   "source": [
    "# One dimensional array - is reffered to as VECTOR\n",
    "# Two dimensional array - is reffered to as MATRIX\n",
    "# Three dimensional array - is reffered to as TENSOR"
   ]
  },
  {
   "cell_type": "markdown",
   "id": "183c9086",
   "metadata": {},
   "source": [
    "  "
   ]
  },
  {
   "cell_type": "markdown",
   "id": "3a1456b4",
   "metadata": {},
   "source": [
    "# What is an array ?"
   ]
  },
  {
   "cell_type": "markdown",
   "id": "215b1a5c",
   "metadata": {},
   "source": [
    "An array is a collection of items stored at contiguous memory locations.\n"
   ]
  },
  {
   "cell_type": "code",
   "execution_count": 3,
   "id": "4d6cf1e9",
   "metadata": {},
   "outputs": [],
   "source": [
    "# -all of the same type\n",
    "# -indexed by a tuple of nonnegetive integer\n",
    "# -arrays are mutable\n"
   ]
  },
  {
   "cell_type": "markdown",
   "id": "5cec51b2",
   "metadata": {},
   "source": [
    "  "
   ]
  },
  {
   "cell_type": "markdown",
   "id": "14923409",
   "metadata": {},
   "source": [
    "  "
   ]
  },
  {
   "cell_type": "code",
   "execution_count": 4,
   "id": "51933f9e",
   "metadata": {},
   "outputs": [],
   "source": [
    "import numpy as np"
   ]
  },
  {
   "cell_type": "code",
   "execution_count": 5,
   "id": "45b2c4ff",
   "metadata": {},
   "outputs": [
    {
     "name": "stdout",
     "output_type": "stream",
     "text": [
      "[1 2 3]\n"
     ]
    }
   ],
   "source": [
    "array=np.array([1,2,3]) ## this is one dimensional array\n",
    "print(array)"
   ]
  },
  {
   "cell_type": "code",
   "execution_count": 6,
   "id": "d6ed612a",
   "metadata": {},
   "outputs": [
    {
     "name": "stdout",
     "output_type": "stream",
     "text": [
      "[[1 2 3 4 5 6]]\n"
     ]
    }
   ],
   "source": [
    "array2=np.array([[1,2,3,4,5,6]])\n",
    "print(array2)"
   ]
  },
  {
   "cell_type": "markdown",
   "id": "f6a1e376",
   "metadata": {},
   "source": [
    "-----     here we are doing indexing of array"
   ]
  },
  {
   "cell_type": "code",
   "execution_count": 7,
   "id": "56abe7ec",
   "metadata": {},
   "outputs": [
    {
     "data": {
      "text/plain": [
       "1"
      ]
     },
     "execution_count": 7,
     "metadata": {},
     "output_type": "execute_result"
    }
   ],
   "source": [
    "array[0]"
   ]
  },
  {
   "cell_type": "code",
   "execution_count": 8,
   "id": "80761717",
   "metadata": {},
   "outputs": [
    {
     "data": {
      "text/plain": [
       "3"
      ]
     },
     "execution_count": 8,
     "metadata": {},
     "output_type": "execute_result"
    }
   ],
   "source": [
    "array2[0,2]"
   ]
  },
  {
   "cell_type": "markdown",
   "id": "34b6dd03",
   "metadata": {},
   "source": [
    "----- now we are chaning the elements of array"
   ]
  },
  {
   "cell_type": "code",
   "execution_count": 9,
   "id": "262c8aa1",
   "metadata": {},
   "outputs": [
    {
     "name": "stdout",
     "output_type": "stream",
     "text": [
      "[5 2 3]\n"
     ]
    }
   ],
   "source": [
    "array[0]=5\n",
    "print(array)"
   ]
  },
  {
   "cell_type": "code",
   "execution_count": 10,
   "id": "4c832dde",
   "metadata": {},
   "outputs": [
    {
     "name": "stdout",
     "output_type": "stream",
     "text": [
      "[[ 1  2 78  4  5  6]]\n"
     ]
    }
   ],
   "source": [
    "array2[0,2]=78\n",
    "print(array2)"
   ]
  },
  {
   "cell_type": "markdown",
   "id": "71c5f015",
   "metadata": {},
   "source": [
    "  "
   ]
  },
  {
   "cell_type": "markdown",
   "id": "aba7b70f",
   "metadata": {},
   "source": [
    "# There are 5 mechanisms for creating arrays:"
   ]
  },
  {
   "cell_type": "markdown",
   "id": "5056167f",
   "metadata": {},
   "source": [
    "  "
   ]
  },
  {
   "cell_type": "code",
   "execution_count": 11,
   "id": "a7ca08d9",
   "metadata": {},
   "outputs": [],
   "source": [
    "# Conversion from other python structure (eg. list, tuples)\n",
    "# Intrincs numpy array creation object (eg. arange, ones, zeros, etc.)\n",
    "# Reading array from disk, either from standard or custome formats\n",
    "# Creating array from raw bites through the use of string or buffers \n",
    "# Use of special library function(eg. random)\n"
   ]
  },
  {
   "cell_type": "markdown",
   "id": "8f1a9c9f",
   "metadata": {},
   "source": [
    "  "
   ]
  },
  {
   "cell_type": "markdown",
   "id": "9176154d",
   "metadata": {},
   "source": [
    "## 1.Conversion from other python structure (eg. list, tuples)"
   ]
  },
  {
   "cell_type": "code",
   "execution_count": 12,
   "id": "60f3f178",
   "metadata": {},
   "outputs": [
    {
     "data": {
      "text/plain": [
       "array([[1, 2, 3],\n",
       "       [4, 5, 6],\n",
       "       [7, 8, 9]])"
      ]
     },
     "execution_count": 12,
     "metadata": {},
     "output_type": "execute_result"
    }
   ],
   "source": [
    "listarry = np.array([[1,2,3],[4,5,6],[7,8,9]]) ### creating array with list\n",
    "listarry"
   ]
  },
  {
   "cell_type": "code",
   "execution_count": 13,
   "id": "ef66ebdc",
   "metadata": {},
   "outputs": [
    {
     "data": {
      "text/plain": [
       "dtype('int32')"
      ]
     },
     "execution_count": 13,
     "metadata": {},
     "output_type": "execute_result"
    }
   ],
   "source": [
    "listarry.dtype"
   ]
  },
  {
   "cell_type": "code",
   "execution_count": 14,
   "id": "e564bf67",
   "metadata": {},
   "outputs": [
    {
     "data": {
      "text/plain": [
       "9"
      ]
     },
     "execution_count": 14,
     "metadata": {},
     "output_type": "execute_result"
    }
   ],
   "source": [
    "listarry.size"
   ]
  },
  {
   "cell_type": "code",
   "execution_count": 15,
   "id": "3fe6aa46",
   "metadata": {},
   "outputs": [
    {
     "data": {
      "text/plain": [
       "(3, 3)"
      ]
     },
     "execution_count": 15,
     "metadata": {},
     "output_type": "execute_result"
    }
   ],
   "source": [
    "listarry.shape"
   ]
  },
  {
   "cell_type": "markdown",
   "id": "cd003cc8",
   "metadata": {},
   "source": [
    "  "
   ]
  },
  {
   "cell_type": "markdown",
   "id": "d8c01bff",
   "metadata": {},
   "source": [
    "  "
   ]
  },
  {
   "cell_type": "code",
   "execution_count": 16,
   "id": "0b5030d7",
   "metadata": {},
   "outputs": [
    {
     "name": "stdout",
     "output_type": "stream",
     "text": [
      "{1, 2, 3, 4, 5}\n"
     ]
    }
   ],
   "source": [
    "# just an exmaple - creating array with set ( but only use for numerical and float)\n",
    "\n",
    "array2=np.array({1,2,3,4,5})\n",
    "print(array2)"
   ]
  },
  {
   "cell_type": "code",
   "execution_count": 17,
   "id": "9904589c",
   "metadata": {},
   "outputs": [
    {
     "data": {
      "text/plain": [
       "dtype('O')"
      ]
     },
     "execution_count": 17,
     "metadata": {},
     "output_type": "execute_result"
    }
   ],
   "source": [
    "array2.dtype"
   ]
  },
  {
   "cell_type": "markdown",
   "id": "829ecc17",
   "metadata": {},
   "source": [
    "  "
   ]
  },
  {
   "cell_type": "markdown",
   "id": "2ac3d3c0",
   "metadata": {},
   "source": [
    "# 2. Intrincs numpy array creation object (eg. arange, ones, zeros, etc.) "
   ]
  },
  {
   "cell_type": "markdown",
   "id": "2019d20c",
   "metadata": {},
   "source": [
    "**-- ZEROS**"
   ]
  },
  {
   "cell_type": "code",
   "execution_count": 18,
   "id": "5d34f4cc",
   "metadata": {},
   "outputs": [
    {
     "data": {
      "text/plain": [
       "array([[0., 0.]])"
      ]
     },
     "execution_count": 18,
     "metadata": {},
     "output_type": "execute_result"
    }
   ],
   "source": [
    "zero=np.zeros((1,2))\n",
    "zero"
   ]
  },
  {
   "cell_type": "code",
   "execution_count": 19,
   "id": "7984e202",
   "metadata": {},
   "outputs": [
    {
     "data": {
      "text/plain": [
       "(1, 2)"
      ]
     },
     "execution_count": 19,
     "metadata": {},
     "output_type": "execute_result"
    }
   ],
   "source": [
    "zero.shape"
   ]
  },
  {
   "cell_type": "code",
   "execution_count": 20,
   "id": "87969a97",
   "metadata": {},
   "outputs": [
    {
     "data": {
      "text/plain": [
       "2"
      ]
     },
     "execution_count": 20,
     "metadata": {},
     "output_type": "execute_result"
    }
   ],
   "source": [
    "zero.size"
   ]
  },
  {
   "cell_type": "code",
   "execution_count": 21,
   "id": "24b66f2d",
   "metadata": {},
   "outputs": [
    {
     "data": {
      "text/plain": [
       "dtype('float64')"
      ]
     },
     "execution_count": 21,
     "metadata": {},
     "output_type": "execute_result"
    }
   ],
   "source": [
    "zero.dtype"
   ]
  },
  {
   "cell_type": "markdown",
   "id": "ee1cdc73",
   "metadata": {},
   "source": [
    "**-- arange**"
   ]
  },
  {
   "cell_type": "code",
   "execution_count": 22,
   "id": "36633bd6",
   "metadata": {},
   "outputs": [
    {
     "data": {
      "text/plain": [
       "array([1, 2, 3, 4, 5, 6, 7, 8, 9])"
      ]
     },
     "execution_count": 22,
     "metadata": {},
     "output_type": "execute_result"
    }
   ],
   "source": [
    "arange=np.arange(1,10)\n",
    "arange"
   ]
  },
  {
   "cell_type": "code",
   "execution_count": 23,
   "id": "a4e26229",
   "metadata": {},
   "outputs": [
    {
     "data": {
      "text/plain": [
       "(9,)"
      ]
     },
     "execution_count": 23,
     "metadata": {},
     "output_type": "execute_result"
    }
   ],
   "source": [
    "arange.shape"
   ]
  },
  {
   "cell_type": "code",
   "execution_count": 24,
   "id": "abd3cf48",
   "metadata": {},
   "outputs": [
    {
     "data": {
      "text/plain": [
       "9"
      ]
     },
     "execution_count": 24,
     "metadata": {},
     "output_type": "execute_result"
    }
   ],
   "source": [
    "arange.size\n"
   ]
  },
  {
   "cell_type": "code",
   "execution_count": 25,
   "id": "de9b018c",
   "metadata": {},
   "outputs": [
    {
     "data": {
      "text/plain": [
       "dtype('int32')"
      ]
     },
     "execution_count": 25,
     "metadata": {},
     "output_type": "execute_result"
    }
   ],
   "source": [
    "arange.dtype"
   ]
  },
  {
   "cell_type": "markdown",
   "id": "1d83466e",
   "metadata": {},
   "source": [
    "**-- linspace**"
   ]
  },
  {
   "cell_type": "code",
   "execution_count": 26,
   "id": "384d4755",
   "metadata": {},
   "outputs": [
    {
     "data": {
      "text/plain": [
       "array([ 2.,  4.,  6.,  8., 10.])"
      ]
     },
     "execution_count": 26,
     "metadata": {},
     "output_type": "execute_result"
    }
   ],
   "source": [
    "linspace=np.linspace(2,10,5)\n",
    "linspace"
   ]
  },
  {
   "cell_type": "code",
   "execution_count": 27,
   "id": "db128826",
   "metadata": {},
   "outputs": [
    {
     "data": {
      "text/plain": [
       "(5,)"
      ]
     },
     "execution_count": 27,
     "metadata": {},
     "output_type": "execute_result"
    }
   ],
   "source": [
    "linspace.shape"
   ]
  },
  {
   "cell_type": "code",
   "execution_count": 28,
   "id": "46b044c0",
   "metadata": {},
   "outputs": [
    {
     "data": {
      "text/plain": [
       "5"
      ]
     },
     "execution_count": 28,
     "metadata": {},
     "output_type": "execute_result"
    }
   ],
   "source": [
    "linspace.size\n"
   ]
  },
  {
   "cell_type": "code",
   "execution_count": 29,
   "id": "96d1c5d4",
   "metadata": {},
   "outputs": [
    {
     "data": {
      "text/plain": [
       "dtype('float64')"
      ]
     },
     "execution_count": 29,
     "metadata": {},
     "output_type": "execute_result"
    }
   ],
   "source": [
    "linspace.dtype"
   ]
  },
  {
   "cell_type": "code",
   "execution_count": 30,
   "id": "09737593",
   "metadata": {},
   "outputs": [
    {
     "name": "stdout",
     "output_type": "stream",
     "text": [
      "[ 2  4  6  8 10]\n"
     ]
    }
   ],
   "source": [
    "## if you want to change the data type of this code\n",
    "\n",
    "linspace=np.linspace(2,10,5, dtype=int)\n",
    "print(linspace)"
   ]
  },
  {
   "cell_type": "markdown",
   "id": "829ad2b7",
   "metadata": {},
   "source": [
    "**-- empty**"
   ]
  },
  {
   "cell_type": "code",
   "execution_count": 31,
   "id": "b74fc63c",
   "metadata": {},
   "outputs": [
    {
     "data": {
      "text/plain": [
       "array([[1.28075779e-311, 3.16202013e-322, 0.00000000e+000,\n",
       "        0.00000000e+000],\n",
       "       [1.18831764e-312, 5.21645426e-037, 2.00335512e-052,\n",
       "        1.31425101e-047],\n",
       "       [1.69094660e-052, 2.46489847e+184, 1.81460368e-052,\n",
       "        2.25409853e+184]])"
      ]
     },
     "execution_count": 31,
     "metadata": {},
     "output_type": "execute_result"
    }
   ],
   "source": [
    "empty=np.empty((3,4))     ### here we are creating empty array - it will enter random numbers in array\n",
    "empty"
   ]
  },
  {
   "cell_type": "markdown",
   "id": "b5df748c",
   "metadata": {},
   "source": [
    "  "
   ]
  },
  {
   "cell_type": "markdown",
   "id": "96f1dc03",
   "metadata": {},
   "source": [
    "  "
   ]
  },
  {
   "cell_type": "markdown",
   "id": "9097c567",
   "metadata": {},
   "source": [
    "# Reshape and ravel functions "
   ]
  },
  {
   "cell_type": "code",
   "execution_count": 32,
   "id": "ea28a86c",
   "metadata": {},
   "outputs": [],
   "source": [
    "## Use of RESHAPE"
   ]
  },
  {
   "cell_type": "markdown",
   "id": "6997eede",
   "metadata": {},
   "source": [
    "**The reshape function is used to change the shape of an array, i.e., it rearranges the elements of an array to give it a new shape.**"
   ]
  },
  {
   "cell_type": "code",
   "execution_count": 33,
   "id": "6036b4cf",
   "metadata": {},
   "outputs": [
    {
     "data": {
      "text/plain": [
       "array([ 1,  2,  3,  4,  5,  6,  7,  8,  9, 10, 11, 12, 13, 14, 15, 16, 17,\n",
       "       18, 19, 20, 21, 22, 23, 24, 25, 26, 27, 28, 29, 30, 31, 32, 33, 34,\n",
       "       35, 36, 37, 38, 39, 40, 41, 42, 43, 44, 45, 46, 47, 48, 49, 50, 51,\n",
       "       52, 53, 54, 55, 56, 57, 58, 59, 60, 61, 62, 63, 64, 65, 66, 67, 68,\n",
       "       69, 70, 71, 72, 73, 74, 75, 76, 77, 78, 79, 80, 81, 82, 83, 84, 85,\n",
       "       86, 87, 88, 89, 90, 91, 92, 93, 94, 95, 96, 97, 98, 99])"
      ]
     },
     "execution_count": 33,
     "metadata": {},
     "output_type": "execute_result"
    }
   ],
   "source": [
    "rangee=np.arange(1,100)   # suppose we an array\n",
    "rangee"
   ]
  },
  {
   "cell_type": "code",
   "execution_count": 34,
   "id": "302082f1",
   "metadata": {},
   "outputs": [
    {
     "data": {
      "text/plain": [
       "array([[ 1,  2,  3,  4,  5,  6,  7,  8,  9, 10, 11, 12, 13, 14, 15, 16,\n",
       "        17, 18, 19, 20, 21, 22, 23, 24, 25, 26, 27, 28, 29, 30, 31, 32,\n",
       "        33],\n",
       "       [34, 35, 36, 37, 38, 39, 40, 41, 42, 43, 44, 45, 46, 47, 48, 49,\n",
       "        50, 51, 52, 53, 54, 55, 56, 57, 58, 59, 60, 61, 62, 63, 64, 65,\n",
       "        66],\n",
       "       [67, 68, 69, 70, 71, 72, 73, 74, 75, 76, 77, 78, 79, 80, 81, 82,\n",
       "        83, 84, 85, 86, 87, 88, 89, 90, 91, 92, 93, 94, 95, 96, 97, 98,\n",
       "        99]])"
      ]
     },
     "execution_count": 34,
     "metadata": {},
     "output_type": "execute_result"
    }
   ],
   "source": [
    "rangee.reshape(3,33)  ## it will convert that into 2 dimentional array and seprate into 3 parts "
   ]
  },
  {
   "cell_type": "code",
   "execution_count": 35,
   "id": "581e1be0",
   "metadata": {},
   "outputs": [],
   "source": [
    "## ravel function"
   ]
  },
  {
   "cell_type": "markdown",
   "id": "70be5321",
   "metadata": {},
   "source": [
    "**used to change a 2-dimensional array or a multi-dimensional array into a contiguous flattened array**"
   ]
  },
  {
   "cell_type": "code",
   "execution_count": 36,
   "id": "953b5752",
   "metadata": {},
   "outputs": [
    {
     "data": {
      "text/plain": [
       "array([[ 1,  2,  3,  4,  5,  6,  7,  8,  9, 10, 11, 12, 13, 14, 15, 16,\n",
       "        17, 18, 19, 20, 21, 22, 23, 24, 25, 26, 27, 28, 29, 30, 31, 32,\n",
       "        33],\n",
       "       [34, 35, 36, 37, 38, 39, 40, 41, 42, 43, 44, 45, 46, 47, 48, 49,\n",
       "        50, 51, 52, 53, 54, 55, 56, 57, 58, 59, 60, 61, 62, 63, 64, 65,\n",
       "        66],\n",
       "       [67, 68, 69, 70, 71, 72, 73, 74, 75, 76, 77, 78, 79, 80, 81, 82,\n",
       "        83, 84, 85, 86, 87, 88, 89, 90, 91, 92, 93, 94, 95, 96, 97, 98,\n",
       "        99]])"
      ]
     },
     "execution_count": 36,
     "metadata": {},
     "output_type": "execute_result"
    }
   ],
   "source": [
    "rangee=rangee.reshape(3,33)\n",
    "rangee"
   ]
  },
  {
   "cell_type": "code",
   "execution_count": 37,
   "id": "8d82f48e",
   "metadata": {},
   "outputs": [
    {
     "data": {
      "text/plain": [
       "array([[ 1,  2,  3,  4,  5,  6,  7,  8,  9, 10, 11, 12, 13, 14, 15, 16,\n",
       "        17, 18, 19, 20, 21, 22, 23, 24, 25, 26, 27, 28, 29, 30, 31, 32,\n",
       "        33],\n",
       "       [34, 35, 36, 37, 38, 39, 40, 41, 42, 43, 44, 45, 46, 47, 48, 49,\n",
       "        50, 51, 52, 53, 54, 55, 56, 57, 58, 59, 60, 61, 62, 63, 64, 65,\n",
       "        66],\n",
       "       [67, 68, 69, 70, 71, 72, 73, 74, 75, 76, 77, 78, 79, 80, 81, 82,\n",
       "        83, 84, 85, 86, 87, 88, 89, 90, 91, 92, 93, 94, 95, 96, 97, 98,\n",
       "        99]])"
      ]
     },
     "execution_count": 37,
     "metadata": {},
     "output_type": "execute_result"
    }
   ],
   "source": [
    "rangee"
   ]
  },
  {
   "cell_type": "code",
   "execution_count": 38,
   "id": "63ab035a",
   "metadata": {},
   "outputs": [],
   "source": [
    "## now we use ravel function to convert this into one dimensional array or flattened array"
   ]
  },
  {
   "cell_type": "code",
   "execution_count": 39,
   "id": "397eba85",
   "metadata": {
    "scrolled": true
   },
   "outputs": [
    {
     "data": {
      "text/plain": [
       "array([ 1,  2,  3,  4,  5,  6,  7,  8,  9, 10, 11, 12, 13, 14, 15, 16, 17,\n",
       "       18, 19, 20, 21, 22, 23, 24, 25, 26, 27, 28, 29, 30, 31, 32, 33, 34,\n",
       "       35, 36, 37, 38, 39, 40, 41, 42, 43, 44, 45, 46, 47, 48, 49, 50, 51,\n",
       "       52, 53, 54, 55, 56, 57, 58, 59, 60, 61, 62, 63, 64, 65, 66, 67, 68,\n",
       "       69, 70, 71, 72, 73, 74, 75, 76, 77, 78, 79, 80, 81, 82, 83, 84, 85,\n",
       "       86, 87, 88, 89, 90, 91, 92, 93, 94, 95, 96, 97, 98, 99])"
      ]
     },
     "execution_count": 39,
     "metadata": {},
     "output_type": "execute_result"
    }
   ],
   "source": [
    "rangee.ravel()"
   ]
  },
  {
   "cell_type": "markdown",
   "id": "2d86582c",
   "metadata": {},
   "source": [
    "# Functions"
   ]
  },
  {
   "cell_type": "markdown",
   "id": "2c5251a8",
   "metadata": {},
   "source": [
    "**Sum functions**"
   ]
  },
  {
   "cell_type": "code",
   "execution_count": 40,
   "id": "d2dba539",
   "metadata": {},
   "outputs": [
    {
     "data": {
      "text/plain": [
       "array([[ 1,  2,  3],\n",
       "       [ 4,  5,  6],\n",
       "       [10,  2,  4]])"
      ]
     },
     "execution_count": 40,
     "metadata": {},
     "output_type": "execute_result"
    }
   ],
   "source": [
    "ar= np.array([[1,2,3],[4,5,6],[10,2,4]])\n",
    "ar\n"
   ]
  },
  {
   "cell_type": "code",
   "execution_count": 41,
   "id": "dfd0daa5",
   "metadata": {},
   "outputs": [
    {
     "data": {
      "text/plain": [
       "37"
      ]
     },
     "execution_count": 41,
     "metadata": {},
     "output_type": "execute_result"
    }
   ],
   "source": [
    "ar.sum()   ## applying sum function"
   ]
  },
  {
   "cell_type": "code",
   "execution_count": 42,
   "id": "504e63f0",
   "metadata": {},
   "outputs": [
    {
     "data": {
      "text/plain": [
       "10"
      ]
     },
     "execution_count": 42,
     "metadata": {},
     "output_type": "execute_result"
    }
   ],
   "source": [
    "array.sum(axis=0) ## applying sum function on axis = 0"
   ]
  },
  {
   "cell_type": "code",
   "execution_count": 43,
   "id": "1f9d37d0",
   "metadata": {},
   "outputs": [
    {
     "data": {
      "text/plain": [
       "array([ 6, 15, 16])"
      ]
     },
     "execution_count": 43,
     "metadata": {},
     "output_type": "execute_result"
    }
   ],
   "source": [
    "ar.sum(axis=1)  ## appyling sum funciton on axis = 1"
   ]
  },
  {
   "cell_type": "markdown",
   "id": "909c9ff0",
   "metadata": {},
   "source": [
    "**Argmax**"
   ]
  },
  {
   "cell_type": "markdown",
   "id": "c60857c6",
   "metadata": {},
   "source": [
    "  --- it will give that index where is maximum value situated"
   ]
  },
  {
   "cell_type": "code",
   "execution_count": 44,
   "id": "b369e86c",
   "metadata": {},
   "outputs": [],
   "source": [
    "array10 = np.array ([1,2,3,4,5,6])"
   ]
  },
  {
   "cell_type": "code",
   "execution_count": 45,
   "id": "e61541b7",
   "metadata": {},
   "outputs": [
    {
     "data": {
      "text/plain": [
       "5"
      ]
     },
     "execution_count": 45,
     "metadata": {},
     "output_type": "execute_result"
    }
   ],
   "source": [
    "array10.argmax()"
   ]
  },
  {
   "cell_type": "markdown",
   "id": "0dc75d31",
   "metadata": {},
   "source": [
    "**Argmin**"
   ]
  },
  {
   "cell_type": "markdown",
   "id": "7bedfbb4",
   "metadata": {},
   "source": [
    "--- it also give that index where is the minimum value situated"
   ]
  },
  {
   "cell_type": "code",
   "execution_count": 46,
   "id": "b1a05054",
   "metadata": {},
   "outputs": [
    {
     "data": {
      "text/plain": [
       "0"
      ]
     },
     "execution_count": 46,
     "metadata": {},
     "output_type": "execute_result"
    }
   ],
   "source": [
    "array10.argmin()"
   ]
  },
  {
   "cell_type": "markdown",
   "id": "ded71633",
   "metadata": {},
   "source": [
    "**Argsort**"
   ]
  },
  {
   "cell_type": "code",
   "execution_count": 47,
   "id": "11a9c1f1",
   "metadata": {},
   "outputs": [
    {
     "data": {
      "text/plain": [
       "array([0, 1, 2, 3, 4, 5], dtype=int64)"
      ]
     },
     "execution_count": 47,
     "metadata": {},
     "output_type": "execute_result"
    }
   ],
   "source": [
    "array10.argsort()  ## it is also giving index after sorting"
   ]
  },
  {
   "cell_type": "markdown",
   "id": "4c23f822",
   "metadata": {},
   "source": [
    "# Methods and attributes"
   ]
  },
  {
   "cell_type": "markdown",
   "id": "cafe9d7e",
   "metadata": {},
   "source": [
    "----   Transpose"
   ]
  },
  {
   "cell_type": "code",
   "execution_count": 48,
   "id": "1159cc87",
   "metadata": {},
   "outputs": [
    {
     "data": {
      "text/plain": [
       "array([[ 1,  4, 10],\n",
       "       [ 2,  5,  2],\n",
       "       [ 3,  6,  4]])"
      ]
     },
     "execution_count": 48,
     "metadata": {},
     "output_type": "execute_result"
    }
   ],
   "source": [
    "## Using transpose ( always use capital to transpose )\n",
    "ar.T"
   ]
  },
  {
   "cell_type": "markdown",
   "id": "85e763a9",
   "metadata": {},
   "source": [
    "--- Flat"
   ]
  },
  {
   "cell_type": "code",
   "execution_count": 49,
   "id": "b0373ecd",
   "metadata": {},
   "outputs": [
    {
     "data": {
      "text/plain": [
       "<numpy.flatiter at 0x25b901de030>"
      ]
     },
     "execution_count": 49,
     "metadata": {},
     "output_type": "execute_result"
    }
   ],
   "source": [
    "ar.flat  ### it will flat your complete array and with the help of for loop you can print that"
   ]
  },
  {
   "cell_type": "code",
   "execution_count": 50,
   "id": "1a0835d0",
   "metadata": {},
   "outputs": [
    {
     "name": "stdout",
     "output_type": "stream",
     "text": [
      "1\n",
      "2\n",
      "3\n",
      "4\n",
      "5\n",
      "6\n",
      "10\n",
      "2\n",
      "4\n"
     ]
    }
   ],
   "source": [
    "for item in ar.flat:\n",
    "    print(item)"
   ]
  },
  {
   "cell_type": "markdown",
   "id": "30cb4c54",
   "metadata": {},
   "source": [
    "---- ndim"
   ]
  },
  {
   "cell_type": "code",
   "execution_count": 51,
   "id": "7181439c",
   "metadata": {},
   "outputs": [
    {
     "data": {
      "text/plain": [
       "2"
      ]
     },
     "execution_count": 51,
     "metadata": {},
     "output_type": "execute_result"
    }
   ],
   "source": [
    "ar.ndim  ### it will show how many dimensions in your array"
   ]
  },
  {
   "cell_type": "code",
   "execution_count": 52,
   "id": "b54159b8",
   "metadata": {},
   "outputs": [
    {
     "data": {
      "text/plain": [
       "36"
      ]
     },
     "execution_count": 52,
     "metadata": {},
     "output_type": "execute_result"
    }
   ],
   "source": [
    "ar.nbytes  ## it will show how much space is consuming your array"
   ]
  },
  {
   "cell_type": "markdown",
   "id": "cf24c5e2",
   "metadata": {},
   "source": [
    "  \n",
    "  "
   ]
  },
  {
   "cell_type": "markdown",
   "id": "cc88ce51",
   "metadata": {},
   "source": [
    "   "
   ]
  },
  {
   "cell_type": "markdown",
   "id": "9197bffa",
   "metadata": {},
   "source": [
    "   "
   ]
  },
  {
   "cell_type": "markdown",
   "id": "30911d89",
   "metadata": {},
   "source": [
    "  # ----------------------------Matrix operation in numpy-----------------------------"
   ]
  },
  {
   "cell_type": "markdown",
   "id": "3c35595a",
   "metadata": {},
   "source": [
    "  "
   ]
  },
  {
   "cell_type": "code",
   "execution_count": 53,
   "id": "4cec229e",
   "metadata": {},
   "outputs": [
    {
     "data": {
      "text/plain": [
       "array([[ 1,  2,  3],\n",
       "       [ 4,  5,  6],\n",
       "       [10,  2,  4]])"
      ]
     },
     "execution_count": 53,
     "metadata": {},
     "output_type": "execute_result"
    }
   ],
   "source": [
    "ar"
   ]
  },
  {
   "cell_type": "code",
   "execution_count": 55,
   "id": "cc0334e2",
   "metadata": {},
   "outputs": [
    {
     "data": {
      "text/plain": [
       "array([[ 4,  5,  6],\n",
       "       [12,  7,  8],\n",
       "       [12, 40,  1]])"
      ]
     },
     "execution_count": 55,
     "metadata": {},
     "output_type": "execute_result"
    }
   ],
   "source": [
    "ar2=np.array([[4,5,6],[12,7,8],[12,40,1]])\n",
    "ar2"
   ]
  },
  {
   "cell_type": "markdown",
   "id": "ac7d6269",
   "metadata": {},
   "source": [
    "**------------------------Applying arthmatic operations between two arrays-----------------**"
   ]
  },
  {
   "cell_type": "code",
   "execution_count": 56,
   "id": "7b616f55",
   "metadata": {},
   "outputs": [
    {
     "data": {
      "text/plain": [
       "array([[ 5,  7,  9],\n",
       "       [16, 12, 14],\n",
       "       [22, 42,  5]])"
      ]
     },
     "execution_count": 56,
     "metadata": {},
     "output_type": "execute_result"
    }
   ],
   "source": [
    "ar+ar2"
   ]
  },
  {
   "cell_type": "code",
   "execution_count": 57,
   "id": "640f4c9c",
   "metadata": {},
   "outputs": [
    {
     "data": {
      "text/plain": [
       "array([[  4,  10,  18],\n",
       "       [ 48,  35,  48],\n",
       "       [120,  80,   4]])"
      ]
     },
     "execution_count": 57,
     "metadata": {},
     "output_type": "execute_result"
    }
   ],
   "source": [
    "ar*ar2"
   ]
  },
  {
   "cell_type": "code",
   "execution_count": 59,
   "id": "5e81a4c8",
   "metadata": {},
   "outputs": [
    {
     "data": {
      "text/plain": [
       "array([[ 3,  3,  3],\n",
       "       [ 8,  2,  2],\n",
       "       [ 2, 38, -3]])"
      ]
     },
     "execution_count": 59,
     "metadata": {},
     "output_type": "execute_result"
    }
   ],
   "source": [
    "ar2-ar"
   ]
  },
  {
   "cell_type": "code",
   "execution_count": 60,
   "id": "415c2a03",
   "metadata": {},
   "outputs": [
    {
     "data": {
      "text/plain": [
       "array([[0.25      , 0.4       , 0.5       ],\n",
       "       [0.33333333, 0.71428571, 0.75      ],\n",
       "       [0.83333333, 0.05      , 4.        ]])"
      ]
     },
     "execution_count": 60,
     "metadata": {},
     "output_type": "execute_result"
    }
   ],
   "source": [
    "ar/ar2"
   ]
  },
  {
   "cell_type": "code",
   "execution_count": 61,
   "id": "a8582f92",
   "metadata": {},
   "outputs": [
    {
     "data": {
      "text/plain": [
       "37"
      ]
     },
     "execution_count": 61,
     "metadata": {},
     "output_type": "execute_result"
    }
   ],
   "source": [
    "ar.sum()"
   ]
  },
  {
   "cell_type": "code",
   "execution_count": 62,
   "id": "7c1f1c4f",
   "metadata": {},
   "outputs": [
    {
     "data": {
      "text/plain": [
       "10"
      ]
     },
     "execution_count": 62,
     "metadata": {},
     "output_type": "execute_result"
    }
   ],
   "source": [
    "ar.max()"
   ]
  },
  {
   "cell_type": "code",
   "execution_count": 63,
   "id": "3fae3207",
   "metadata": {},
   "outputs": [
    {
     "data": {
      "text/plain": [
       "1"
      ]
     },
     "execution_count": 63,
     "metadata": {},
     "output_type": "execute_result"
    }
   ],
   "source": [
    "ar.min()"
   ]
  },
  {
   "cell_type": "markdown",
   "id": "7d42e042",
   "metadata": {},
   "source": [
    "  "
   ]
  },
  {
   "cell_type": "markdown",
   "id": "b5e3cc70",
   "metadata": {},
   "source": [
    "  "
   ]
  },
  {
   "cell_type": "markdown",
   "id": "4122c407",
   "metadata": {},
   "source": [
    "**How can we find a element in array ?**"
   ]
  },
  {
   "cell_type": "code",
   "execution_count": 64,
   "id": "b0957dc3",
   "metadata": {},
   "outputs": [
    {
     "data": {
      "text/plain": [
       "array([[ 1,  2,  3],\n",
       "       [ 4,  5,  6],\n",
       "       [10,  2,  4]])"
      ]
     },
     "execution_count": 64,
     "metadata": {},
     "output_type": "execute_result"
    }
   ],
   "source": [
    "ar"
   ]
  },
  {
   "cell_type": "code",
   "execution_count": 69,
   "id": "96a9d383",
   "metadata": {},
   "outputs": [
    {
     "data": {
      "text/plain": [
       "(array([2], dtype=int64), array([0], dtype=int64))"
      ]
     },
     "execution_count": 69,
     "metadata": {},
     "output_type": "execute_result"
    }
   ],
   "source": [
    "np.where(ar==10)    ## it will return a tuple of array"
   ]
  },
  {
   "cell_type": "markdown",
   "id": "51c6055d",
   "metadata": {},
   "source": [
    "**Counting non-zero element in array**"
   ]
  },
  {
   "cell_type": "code",
   "execution_count": 75,
   "id": "ae347456",
   "metadata": {},
   "outputs": [
    {
     "data": {
      "text/plain": [
       "9"
      ]
     },
     "execution_count": 75,
     "metadata": {},
     "output_type": "execute_result"
    }
   ],
   "source": [
    "np.count_nonzero(ar)"
   ]
  },
  {
   "cell_type": "markdown",
   "id": "f93ae73b",
   "metadata": {},
   "source": [
    "**Counting the elements with zeros**"
   ]
  },
  {
   "cell_type": "code",
   "execution_count": 77,
   "id": "b45ec07a",
   "metadata": {},
   "outputs": [
    {
     "data": {
      "text/plain": [
       "0"
      ]
     },
     "execution_count": 77,
     "metadata": {},
     "output_type": "execute_result"
    }
   ],
   "source": [
    "(ar.size)-(np.count_nonzero(ar))  ## formula creation"
   ]
  },
  {
   "cell_type": "code",
   "execution_count": null,
   "id": "5849b3c9",
   "metadata": {},
   "outputs": [],
   "source": []
  }
 ],
 "metadata": {
  "kernelspec": {
   "display_name": "Python 3 (ipykernel)",
   "language": "python",
   "name": "python3"
  },
  "language_info": {
   "codemirror_mode": {
    "name": "ipython",
    "version": 3
   },
   "file_extension": ".py",
   "mimetype": "text/x-python",
   "name": "python",
   "nbconvert_exporter": "python",
   "pygments_lexer": "ipython3",
   "version": "3.10.9"
  }
 },
 "nbformat": 4,
 "nbformat_minor": 5
}
